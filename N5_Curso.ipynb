{
  "nbformat": 4,
  "nbformat_minor": 0,
  "metadata": {
    "kernelspec": {
      "display_name": "Python 3",
      "language": "python",
      "name": "python3"
    },
    "language_info": {
      "codemirror_mode": {
        "name": "ipython",
        "version": 3
      },
      "file_extension": ".py",
      "mimetype": "text/x-python",
      "name": "python",
      "nbconvert_exporter": "python",
      "pygments_lexer": "ipython3",
      "version": "3.7.3"
    },
    "colab": {
      "provenance": []
    }
  },
  "cells": [
    {
      "cell_type": "markdown",
      "metadata": {
        "id": "Gp2WddtV9IwG"
      },
      "source": [
        "# Programa Ingenias+ Data Science"
      ]
    },
    {
      "cell_type": "code",
      "source": [],
      "metadata": {
        "id": "361aTiiUmeXV"
      },
      "execution_count": 15,
      "outputs": []
    },
    {
      "cell_type": "markdown",
      "metadata": {
        "id": "X03mviQS9IyL"
      },
      "source": [
        "# Ejercicios\n",
        "\n",
        "1. Crear un arreglo de ceros de longitud 12\n",
        "2. Crear un arreglo de longitud 10 con ceros en todas sus posiciones y un 10 en la posición número 5\n",
        "3. Crear un arreglo que tenga los números del 10 al 49\n",
        "4. Crear una arreglo 2d de shape (3, 3) que tenga los números del 0 al 8\n",
        "5. Crear un arreglo de números aleatorios de longitud 100 y obtener su media y varianza\n",
        "6. Calcular la media de un arreglo usando np.sum\n",
        "7. Calcular la varianza de un arreglo usando np.sum y np.mean\n",
        "8. Crear un array de números aleatorios usando np.random.randn.\n"
      ]
    },
    {
      "cell_type": "code",
      "source": [],
      "metadata": {
        "id": "X_Bho707PGp8"
      },
      "execution_count": 15,
      "outputs": []
    },
    {
      "cell_type": "code",
      "source": [
        "from google.colab import drive\n",
        "drive.mount('/content/drive')"
      ],
      "metadata": {
        "id": "_ra3EqNcP1gw",
        "colab": {
          "base_uri": "https://localhost:8080/"
        },
        "outputId": "cba8a967-708c-4baa-a8af-8cac3f6889cb"
      },
      "execution_count": 1,
      "outputs": [
        {
          "output_type": "stream",
          "name": "stdout",
          "text": [
            "Mounted at /content/drive\n"
          ]
        }
      ]
    },
    {
      "cell_type": "code",
      "source": [
        "#Importar numpy\n",
        "import numpy as np"
      ],
      "metadata": {
        "id": "_Ml6ucHAe0dr"
      },
      "execution_count": 2,
      "outputs": []
    },
    {
      "cell_type": "code",
      "source": [
        "array_ceros=np.zeros(12)\n",
        "print(array_ceros)\n",
        "len (array_ceros)\n"
      ],
      "metadata": {
        "colab": {
          "base_uri": "https://localhost:8080/"
        },
        "id": "xslsgAz5dBcI",
        "outputId": "ef05e8df-693f-46e5-cd14-25011c66c7d3"
      },
      "execution_count": 3,
      "outputs": [
        {
          "output_type": "stream",
          "name": "stdout",
          "text": [
            "[0. 0. 0. 0. 0. 0. 0. 0. 0. 0. 0. 0.]\n"
          ]
        },
        {
          "output_type": "execute_result",
          "data": {
            "text/plain": [
              "12"
            ]
          },
          "metadata": {},
          "execution_count": 3
        }
      ]
    },
    {
      "cell_type": "code",
      "source": [
        "#Ejercicio 1: Crear un arreglo de ceros de longitud 12\n",
        "Ejercicio1=np.zeros(12)\n",
        "print(Ejercicio1)\n",
        "len (Ejercicio1)"
      ],
      "metadata": {
        "id": "bDHUnDG-e0TB",
        "colab": {
          "base_uri": "https://localhost:8080/"
        },
        "outputId": "00152a21-2158-440c-aa71-e197fecc3811"
      },
      "execution_count": 4,
      "outputs": [
        {
          "output_type": "stream",
          "name": "stdout",
          "text": [
            "[0. 0. 0. 0. 0. 0. 0. 0. 0. 0. 0. 0.]\n"
          ]
        },
        {
          "output_type": "execute_result",
          "data": {
            "text/plain": [
              "12"
            ]
          },
          "metadata": {},
          "execution_count": 4
        }
      ]
    },
    {
      "cell_type": "code",
      "source": [
        "#prueba: arreglo de unos de longitud 5\n",
        "prueba=np.ones(5)\n",
        "print(prueba)"
      ],
      "metadata": {
        "colab": {
          "base_uri": "https://localhost:8080/"
        },
        "id": "nLlHeu0Obg5t",
        "outputId": "fdca9a05-6e01-4a44-9828-8bb8f204930b"
      },
      "execution_count": 5,
      "outputs": [
        {
          "output_type": "stream",
          "name": "stdout",
          "text": [
            "[1. 1. 1. 1. 1.]\n"
          ]
        }
      ]
    },
    {
      "cell_type": "code",
      "source": [
        "#Ejercicio 2: Crear un arreglo de longitud 10 con ceros en todas sus posiciones y un 10 en la posición número 5\n",
        "Ejercicio2=np.zeros(10)\n",
        "Ejercicio2[4]=10\n",
        "print(Ejercicio2)"
      ],
      "metadata": {
        "colab": {
          "base_uri": "https://localhost:8080/"
        },
        "id": "d0bEPMKDf-_l",
        "outputId": "74497108-70c2-42d5-f8e7-1d9712f7c868"
      },
      "execution_count": 6,
      "outputs": [
        {
          "output_type": "stream",
          "name": "stdout",
          "text": [
            "[ 0.  0.  0.  0. 10.  0.  0.  0.  0.  0.]\n"
          ]
        }
      ]
    },
    {
      "cell_type": "code",
      "source": [
        "#prueba 2: en el arreglo de unos, que la tercer posicion tenga un 7\n",
        "prueba[3]=7\n",
        "print(prueba)"
      ],
      "metadata": {
        "colab": {
          "base_uri": "https://localhost:8080/"
        },
        "id": "3TQn79_Yb508",
        "outputId": "dafd109a-fcc4-49a7-f300-1e4470f8caef"
      },
      "execution_count": 7,
      "outputs": [
        {
          "output_type": "stream",
          "name": "stdout",
          "text": [
            "[1. 1. 1. 7. 1.]\n"
          ]
        }
      ]
    },
    {
      "cell_type": "code",
      "source": [
        "#Ejercicio 3: Crear un arreglo que tenga los números del 10 al 49\n",
        "array_10_49=np.arange(10,50)\n",
        "print(array_10_49)"
      ],
      "metadata": {
        "colab": {
          "base_uri": "https://localhost:8080/"
        },
        "id": "M3TJDCz1g-i7",
        "outputId": "1fd0245a-268a-48c2-bfc7-6e142faa0325"
      },
      "execution_count": 8,
      "outputs": [
        {
          "output_type": "stream",
          "name": "stdout",
          "text": [
            "[10 11 12 13 14 15 16 17 18 19 20 21 22 23 24 25 26 27 28 29 30 31 32 33\n",
            " 34 35 36 37 38 39 40 41 42 43 44 45 46 47 48 49]\n"
          ]
        }
      ]
    },
    {
      "cell_type": "code",
      "source": [
        "#Ejercicio 4: Crear una arreglo 2d de shape (3, 3) que tenga los números del 0 al 8\n",
        "Ejercicio4=np.arange(9).reshape(3,3)\n",
        "print(Ejercicio4)"
      ],
      "metadata": {
        "colab": {
          "base_uri": "https://localhost:8080/"
        },
        "id": "IWBKX2tKguGs",
        "outputId": "0efbdbc3-f1df-401b-c7f3-7548f1e08bb4"
      },
      "execution_count": 9,
      "outputs": [
        {
          "output_type": "stream",
          "name": "stdout",
          "text": [
            "[[0 1 2]\n",
            " [3 4 5]\n",
            " [6 7 8]]\n"
          ]
        }
      ]
    },
    {
      "cell_type": "code",
      "source": [
        "#Ejercicio 5: Crear un arreglo de números aleatorios de longitud 100 y obtener su media y varianza\n",
        "Ejercicio5=np.random.rand(100)\n",
        "print(Ejercicio5)\n",
        "print(\"\")\n",
        "media = np.mean(Ejercicio5)\n",
        "print(\"Media:\", media)\n",
        "print(\"\")\n",
        "varianza = np.var(Ejercicio5)\n",
        "print(\"Varianza:\", varianza)"
      ],
      "metadata": {
        "colab": {
          "base_uri": "https://localhost:8080/"
        },
        "id": "N8mMKTPGf_Vu",
        "outputId": "7097b8c3-453b-4122-8878-ddaf1b30ebd9"
      },
      "execution_count": 10,
      "outputs": [
        {
          "output_type": "stream",
          "name": "stdout",
          "text": [
            "[0.69262955 0.66898136 0.20681662 0.20361786 0.70213876 0.09687225\n",
            " 0.54918448 0.30289927 0.15674138 0.05477042 0.49498392 0.12158366\n",
            " 0.20286202 0.96768472 0.1694052  0.69979294 0.22407374 0.31512936\n",
            " 0.11871436 0.34114178 0.67290675 0.55573143 0.78382512 0.67307951\n",
            " 0.2716283  0.68885413 0.55836768 0.00979163 0.39999727 0.97147692\n",
            " 0.24095465 0.2223537  0.07420121 0.76047116 0.56278109 0.4557693\n",
            " 0.08819809 0.43319745 0.69458141 0.8209554  0.10025155 0.5861587\n",
            " 0.44984154 0.95519225 0.39595856 0.02844479 0.82323866 0.68481609\n",
            " 0.61397602 0.02488697 0.54701166 0.74383107 0.06073213 0.52612409\n",
            " 0.72976922 0.06519617 0.74990586 0.08547125 0.25229754 0.91918881\n",
            " 0.66026647 0.78066664 0.72881271 0.51529253 0.80903246 0.12991339\n",
            " 0.49820179 0.4014628  0.95273051 0.96460386 0.91976754 0.04400136\n",
            " 0.67581659 0.14026034 0.23913978 0.54071116 0.38606942 0.0747885\n",
            " 0.28128974 0.10354907 0.07817733 0.55366206 0.05678297 0.05432856\n",
            " 0.15315968 0.66526686 0.30899755 0.40668488 0.87986691 0.70420353\n",
            " 0.24026322 0.99639534 0.16635242 0.85289415 0.99799101 0.64164378\n",
            " 0.9974266  0.87900694 0.7246116  0.89801643]\n",
            "\n",
            "Media: 0.47673547193942645\n",
            "\n",
            "Varianza: 0.09209329559917213\n"
          ]
        }
      ]
    },
    {
      "cell_type": "code",
      "source": [
        "#pruba 5: crear arreglo de 25 numeros aleatorios y calcular media y varianza\n",
        "Prueba5=np.random.rand(25)\n",
        "print(Prueba5)\n",
        "print(\"\")\n",
        "media25=np.mean(Prueba5)\n",
        "print(\"Media:\", media25 )\n",
        "print(\"\")\n",
        "varianza25=np.var(Prueba5)\n",
        "print(\"Varianza:\", varianza25)"
      ],
      "metadata": {
        "colab": {
          "base_uri": "https://localhost:8080/"
        },
        "id": "4-2Y8YBldi95",
        "outputId": "201cf3bd-4a5a-4e8d-f606-2ca6faac5b72"
      },
      "execution_count": 11,
      "outputs": [
        {
          "output_type": "stream",
          "name": "stdout",
          "text": [
            "[0.79775459 0.09515405 0.91924657 0.90504625 0.55786419 0.64410527\n",
            " 0.93299435 0.80316938 0.67667565 0.13198796 0.78954679 0.83919233\n",
            " 0.79773897 0.01515685 0.79232587 0.6153178  0.79357224 0.03512581\n",
            " 0.75939001 0.0679957  0.7949985  0.04664982 0.85043536 0.22099868\n",
            " 0.36977593]\n",
            "\n",
            "Media: 0.5700887569660709\n",
            "\n",
            "Varianza: 0.10509826684555838\n"
          ]
        }
      ]
    },
    {
      "cell_type": "code",
      "source": [
        "#Ejercicio 6: Calcular la media de un arreglo usando np.sum\n",
        "Ejercicio6 = np.sum(Ejercicio5)/[len(Ejercicio5)]\n",
        "print(Ejercicio6)"
      ],
      "metadata": {
        "colab": {
          "base_uri": "https://localhost:8080/"
        },
        "id": "wjIj6NHvitDW",
        "outputId": "0f402e8d-a7c3-4102-9c32-8ff73aa6efee"
      },
      "execution_count": 12,
      "outputs": [
        {
          "output_type": "stream",
          "name": "stdout",
          "text": [
            "[0.47673547]\n"
          ]
        }
      ]
    },
    {
      "cell_type": "code",
      "source": [
        "#prueba6: Calcular la media de un arreglo usando np.sum\n",
        "prueba6=np.sum(Prueba5)/[len(Prueba5)]\n",
        "print(prueba6)"
      ],
      "metadata": {
        "colab": {
          "base_uri": "https://localhost:8080/"
        },
        "id": "8HMhJ-9wet6H",
        "outputId": "70c1d218-5d06-4623-a857-685647b305d6"
      },
      "execution_count": 13,
      "outputs": [
        {
          "output_type": "stream",
          "name": "stdout",
          "text": [
            "[0.57008876]\n"
          ]
        }
      ]
    },
    {
      "cell_type": "code",
      "source": [
        "#ejercicio 7: Calcular la varianza de un arreglo usando np.sum y np.mean\n",
        "Ejercicio7=np.sum((Ejercicio5-np.mean(Ejercicio5))**2)/[len(Ejercicio5)]\n",
        "print(Ejercicio7)"
      ],
      "metadata": {
        "colab": {
          "base_uri": "https://localhost:8080/"
        },
        "id": "7Zdj3AxHlvu7",
        "outputId": "fe419cd6-c533-4b54-e11f-cf483644bc88"
      },
      "execution_count": 14,
      "outputs": [
        {
          "output_type": "stream",
          "name": "stdout",
          "text": [
            "[0.0920933]\n"
          ]
        }
      ]
    },
    {
      "cell_type": "code",
      "source": [
        "#Ejercicio8\n",
        "#Crear un array de números aleatorios usando np.random.randn\n",
        "\n",
        "Ejercicio8=np.random.rand(15) #en mi caso elegi 15 numeros random\n",
        "print(Ejercicio8)"
      ],
      "metadata": {
        "id": "KfQNeLQJl6J5",
        "colab": {
          "base_uri": "https://localhost:8080/"
        },
        "outputId": "c534bb71-e991-4ad5-aa23-de79aba5d108"
      },
      "execution_count": 15,
      "outputs": [
        {
          "output_type": "stream",
          "name": "stdout",
          "text": [
            "[0.57317552 0.14644068 0.59395731 0.75247022 0.96108325 0.13019065\n",
            " 0.75413521 0.21558339 0.24950933 0.18752536 0.54534356 0.88322175\n",
            " 0.11699211 0.2591584  0.16054213]\n"
          ]
        }
      ]
    }
  ]
}